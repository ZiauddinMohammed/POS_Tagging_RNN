{
  "nbformat": 4,
  "nbformat_minor": 0,
  "metadata": {
    "colab": {
      "name": "MP_POS_TAGGING.ipynb",
      "version": "0.3.2",
      "provenance": [],
      "collapsed_sections": [],
      "include_colab_link": true
    },
    "kernelspec": {
      "display_name": "Python 3",
      "language": "python",
      "name": "python3"
    }
  },
  "cells": [
    {
      "cell_type": "markdown",
      "metadata": {
        "id": "view-in-github",
        "colab_type": "text"
      },
      "source": [
        "<a href=\"https://colab.research.google.com/github/ZiauddinMohammed/POS_Tagging_RNN/blob/master/MP_POS_TAGGING.ipynb\" target=\"_parent\"><img src=\"https://colab.research.google.com/assets/colab-badge.svg\" alt=\"Open In Colab\"/></a>"
      ]
    },
    {
      "metadata": {
        "id": "LdUFOJZO5TXq",
        "colab_type": "code",
        "outputId": "1a9d99e9-40c1-4f31-c675-d7954f0c830c",
        "colab": {
          "base_uri": "https://localhost:8080/",
          "height": 119
        }
      },
      "cell_type": "code",
      "source": [
        "import theano\n",
        "import theano.tensor.blas\n",
        "import numpy as np\n",
        "import theano.tensor as t\n",
        "import theano\n",
        "theano.config.exception_verbosity='high'\n",
        "import os\n",
        "import sys\n",
        "import pickle\n",
        "\n",
        "\n",
        "\n",
        "\n",
        "\n",
        "\n"
      ],
      "execution_count": 0,
      "outputs": [
        {
          "output_type": "stream",
          "text": [
            "Cloning into 'POS_Tagging_RNN'...\n",
            "remote: Enumerating objects: 7, done.\u001b[K\n",
            "remote: Counting objects: 100% (7/7), done.\u001b[K\n",
            "remote: Compressing objects: 100% (7/7), done.\u001b[K\n",
            "remote: Total 7 (delta 0), reused 0 (delta 0), pack-reused 0\u001b[K\n",
            "Unpacking objects: 100% (7/7), done.\n"
          ],
          "name": "stdout"
        }
      ]
    },
    {
      "metadata": {
        "id": "0VOSWM0cBX4S",
        "colab_type": "code",
        "outputId": "de6be849-bbb4-4f19-96c1-770c2e4a1c22",
        "colab": {
          "base_uri": "https://localhost:8080/",
          "height": 34
        }
      },
      "cell_type": "code",
      "source": [
        "! git clone https://github.com/ZiauddinMohammed/POS_Tagging_RNN/"
      ],
      "execution_count": 0,
      "outputs": [
        {
          "output_type": "stream",
          "text": [
            "fatal: destination path 'POS_Tagging_RNN' already exists and is not an empty directory.\n"
          ],
          "name": "stdout"
        }
      ]
    },
    {
      "metadata": {
        "id": "Ys6r8x5G5TX5",
        "colab_type": "code",
        "colab": {}
      },
      "cell_type": "code",
      "source": [
        "def init_weight(Mi, Mo):\n",
        "    return np.random.randn(Mi, Mo) / np.sqrt(Mi + Mo)\n",
        "  "
      ],
      "execution_count": 0,
      "outputs": []
    },
    {
      "metadata": {
        "id": "mGzEyzVv5TYE",
        "colab_type": "code",
        "colab": {}
      },
      "cell_type": "code",
      "source": [
        "class GRU:\n",
        "    def __init__(self, Mi, Mo, activation):\n",
        "        self.Mi = Mi\n",
        "        self.Mo = Mo\n",
        "        self.f  = activation\n",
        "\n",
        "        # numpy init\n",
        "        Wxr = init_weight(Mi, Mo)\n",
        "        Whr = init_weight(Mo, Mo)\n",
        "        br  = np.zeros(Mo)\n",
        "        Wxz = init_weight(Mi, Mo)\n",
        "        Whz = init_weight(Mo, Mo)\n",
        "        bz  = np.zeros(Mo)\n",
        "        Wxh = init_weight(Mi, Mo)\n",
        "        Whh = init_weight(Mo, Mo)\n",
        "        bh  = np.zeros(Mo)\n",
        "        h0  = np.zeros(Mo)\n",
        "\n",
        "        # theano vars\n",
        "        self.Wxr = theano.shared(Wxr)\n",
        "        self.Whr = theano.shared(Whr)\n",
        "        self.br  = theano.shared(br)\n",
        "        self.Wxz = theano.shared(Wxz)\n",
        "        self.Whz = theano.shared(Whz)\n",
        "        self.bz  = theano.shared(bz)\n",
        "        self.Wxh = theano.shared(Wxh)\n",
        "        self.Whh = theano.shared(Whh)\n",
        "        self.bh  = theano.shared(bh)\n",
        "        self.h0  = theano.shared(h0)\n",
        "        self.params = [self.Wxr, self.Whr, self.br, self.Wxz, self.Whz, self.bz, self.Wxh, self.Whh, self.bh, self.h0]\n",
        "\n",
        "    def recurrence(self, x_t, h_t1):\n",
        "        r = T.nnet.sigmoid(x_t.dot(self.Wxr) + h_t1.dot(self.Whr) + self.br)\n",
        "        z = T.nnet.sigmoid(x_t.dot(self.Wxz) + h_t1.dot(self.Whz) + self.bz)\n",
        "        hhat = self.f(x_t.dot(self.Wxh) + (r * h_t1).dot(self.Whh) + self.bh)\n",
        "        h = (1 - z) * h_t1 + z * hhat\n",
        "        return h\n",
        "\n",
        "    def output(self, x):\n",
        "        # input X should be a matrix (2-D)\n",
        "        # rows index time\n",
        "        h, _ = theano.scan(\n",
        "            fn=self.recurrence,\n",
        "            sequences=x,\n",
        "            outputs_info=[self.h0],\n",
        "            n_steps=x.shape[0],\n",
        "        )\n",
        "        return h"
      ],
      "execution_count": 0,
      "outputs": []
    },
    {
      "metadata": {
        "id": "DD9O6FZx5TYL",
        "colab_type": "code",
        "colab": {}
      },
      "cell_type": "code",
      "source": [
        "def get_data(split_sequences=False):\n",
        "    if not os.path.exists('../content/POS_Tagging_RNN/'):\n",
        "        print(\"Please create a folder in your local directory called 'chunking'\")\n",
        "        print(\"train.txt and test.txt should be stored in there.\")\n",
        "        print(\"Please check the comments to get the download link.\")\n",
        "        exit()\n",
        "    elif not os.path.exists('../content/POS_Tagging_RNN/train.txt'):\n",
        "        print(\"train.txt is not in chunking/train.txt\")\n",
        "        print(\"Please check the comments to get the download link.\")\n",
        "        exit()\n",
        "    elif not os.path.exists('../content/POS_Tagging_RNN/test.txt'):\n",
        "        print(\"test.txt is not in chunking/test.txt\")\n",
        "        print(\"Please check the comments to get the download link.\")\n",
        "        exit()\n",
        "\n",
        "    word2idx = {}\n",
        "    tag2idx = {}\n",
        "    word_idx = 0\n",
        "    tag_idx = 0\n",
        "    Xtrain = []\n",
        "    Ytrain = []\n",
        "    currentX = []\n",
        "    currentY = []\n",
        "    for line in open('../content/POS_Tagging_RNN/train.txt'):\n",
        "        line = line.rstrip()\n",
        "        if line:\n",
        "            r = line.split()\n",
        "            word, tag, _ = r\n",
        "            if word not in word2idx:\n",
        "                word2idx[word] = word_idx\n",
        "                word_idx += 1\n",
        "            currentX.append(word2idx[word])\n",
        "            \n",
        "            if tag not in tag2idx:\n",
        "                tag2idx[tag] = tag_idx\n",
        "                tag_idx += 1\n",
        "            currentY.append(tag2idx[tag])\n",
        "        elif split_sequences:\n",
        "            Xtrain.append(currentX)\n",
        "            Ytrain.append(currentY)\n",
        "            currentX = []\n",
        "            currentY = []\n",
        "\n",
        "    if not split_sequences:\n",
        "        Xtrain = currentX\n",
        "        Ytrain = currentY\n",
        "\n",
        "    # load and score test data\n",
        "    Xtest = []\n",
        "    Ytest = []\n",
        "    currentX = []\n",
        "    currentY = []\n",
        "    for line in open('../content/POS_Tagging_RNN/test.txt'):\n",
        "        line = line.rstrip()\n",
        "        if line:\n",
        "            r = line.split()\n",
        "            word, tag, _ = r\n",
        "            if word in word2idx:\n",
        "                currentX.append(word2idx[word])\n",
        "            else:\n",
        "                currentX.append(word_idx) # use this as unknown\n",
        "            currentY.append(tag2idx[tag])\n",
        "        elif split_sequences:\n",
        "            Xtest.append(currentX)\n",
        "            Ytest.append(currentY)\n",
        "            currentX = []\n",
        "            currentY = []\n",
        "    if not split_sequences:\n",
        "        Xtest = currentX\n",
        "        Ytest = currentY\n",
        "\n",
        "    return Xtrain, Ytrain, Xtest, Ytest, word2idx,tag2idx"
      ],
      "execution_count": 0,
      "outputs": []
    },
    {
      "metadata": {
        "id": "UAwZiLIf6GjB",
        "colab_type": "code",
        "colab": {}
      },
      "cell_type": "code",
      "source": [
        "import numpy as np\n",
        "import  matplotlib.pyplot as plt\n",
        "import theano\n",
        "import theano.tensor as T\n",
        "from sklearn.utils import shuffle\n",
        "from datetime import datetime\n",
        "from sklearn.metrics import f1_score\n",
        "\n",
        "class RNN:\n",
        "    def __init__(self, D, hidden_layer_sizes, V, K):\n",
        "        self.hidden_layer_sizes = hidden_layer_sizes\n",
        "        self.D = D\n",
        "        self.V = V\n",
        "        self.K = K\n",
        "\n",
        "    def fit(self, X, Y, learning_rate=1e-4, mu=0.99, epochs=30, show_fig=True, activation=T.nnet.relu, RecurrentUnit=GRU, normalize=False):\n",
        "        D = self.D\n",
        "        V = self.V\n",
        "        N = len(X)\n",
        "\n",
        "        We = init_weight(V, D)\n",
        "        self.hidden_layers = []\n",
        "        Mi = D\n",
        "        for Mo in self.hidden_layer_sizes:\n",
        "            ru = RecurrentUnit(Mi, Mo, activation)\n",
        "            self.hidden_layers.append(ru)\n",
        "            Mi = Mo\n",
        "\n",
        "        Wo = init_weight(Mi, self.K)\n",
        "        bo = np.zeros(self.K)\n",
        "\n",
        "        self.We = theano.shared(We)\n",
        "        self.Wo = theano.shared(Wo)\n",
        "        self.bo = theano.shared(bo)\n",
        "        self.params = [self.Wo, self.bo]\n",
        "        for ru in self.hidden_layers:\n",
        "            self.params += ru.params\n",
        "\n",
        "        thX = T.ivector('X')\n",
        "        thY = T.ivector('Y')\n",
        "\n",
        "        Z = self.We[thX]\n",
        "        for ru in self.hidden_layers:\n",
        "            Z = ru.output(Z)\n",
        "        py_x = T.nnet.softmax(Z.dot(self.Wo) + self.bo)\n",
        "\n",
        "        testf = theano.function(\n",
        "            inputs=[thX],\n",
        "            outputs=py_x,\n",
        "        )\n",
        "        testout = testf(X[0])\n",
        "        print(\"py_x.shape:\", testout.shape)\n",
        "\n",
        "        prediction = T.argmax(py_x, axis=1)\n",
        "        \n",
        "        \n",
        "        cost = -T.mean(T.log(py_x[T.arange(thY.shape[0]), thY]))\n",
        "        grads = T.grad(cost, self.params)\n",
        "        dparams = [theano.shared(p.get_value()*0) for p in self.params]\n",
        "\n",
        "        dWe = theano.shared(self.We.get_value()*0)\n",
        "        gWe = T.grad(cost, self.We)\n",
        "        dWe_update = mu*dWe - learning_rate*gWe\n",
        "        We_update = self.We + dWe_update\n",
        "        if normalize:\n",
        "            We_update /= We_update.norm(2)\n",
        "\n",
        "        updates = [\n",
        "            (p, p + mu*dp - learning_rate*g) for p, dp, g in zip(self.params, dparams, grads)\n",
        "        ] + [\n",
        "            (dp, mu*dp - learning_rate*g) for dp, g in zip(dparams, grads)\n",
        "        ] + [\n",
        "            (self.We, We_update), (dWe, dWe_update)\n",
        "        ]\n",
        "        \n",
        "        \n",
        "        self.predict_op=theano.function(\n",
        "            inputs=[thX],\n",
        "            outputs=[prediction],\n",
        "        )\n",
        "\n",
        "        self.cost_predict_op = theano.function(\n",
        "            inputs=[thX, thY],\n",
        "            outputs=[cost, prediction],\n",
        "            allow_input_downcast=True,\n",
        "        )\n",
        "\n",
        "        self.train_op = theano.function(\n",
        "            inputs=[thX, thY],\n",
        "            outputs=[cost, prediction],\n",
        "            updates=updates\n",
        "        )\n",
        "\n",
        "        costs = []\n",
        "        sequence_indexes = range(N)\n",
        "        n_total = sum(len(y) for y in Y)\n",
        "        for i in range(epochs):\n",
        "            t0 = datetime.now()\n",
        "            sequence_indexes = shuffle(sequence_indexes)\n",
        "            n_correct = 0\n",
        "            cost = 0\n",
        "            it = 0\n",
        "            for j in sequence_indexes:\n",
        "                c, p = self.train_op(X[j], Y[j])\n",
        "                cost += c\n",
        "                n_correct += np.sum(p == Y[j])\n",
        "                it += 1\n",
        "                if it % 200 == 0:\n",
        "                    sys.stdout.write(\n",
        "                        \"j/N: %d/%d correct rate so far: %f, cost so far: %f\\r\" %\n",
        "                        (it, N, float(n_correct)/n_total, cost)\n",
        "                    )\n",
        "                    sys.stdout.flush()\n",
        "            print(\n",
        "                \"i:\", i+1, \"cost:\", cost,\n",
        "                \"correct rate:\", (float(n_correct)/n_total),\n",
        "                \"time for epoch:\", (datetime.now() - t0)\n",
        "            )\n",
        "            costs.append(cost)\n",
        "            \n",
        "\n",
        "        if show_fig:\n",
        "            plt.plot(costs)\n",
        "            plt.show()\n",
        "    \n",
        "    def predict(self,X):\n",
        "        for x in X:\n",
        "            p=self.predict_op(x)\n",
        "            #print(p)\n",
        "            return p\n",
        "         \n",
        "        \n",
        "\n",
        "    def score(self, X, Y):\n",
        "        n_total = sum(len(y) for y in Y)\n",
        "        n_correct = 0\n",
        "        for x, y in zip(X, Y):\n",
        "            _, p = self.cost_predict_op(x, y)\n",
        "            n_correct += np.sum(p == y)\n",
        "        return float(n_correct) / n_total\n",
        "\n",
        "    def f1_score(self, X, Y):\n",
        "        P = []\n",
        "        for x, y in zip(X, Y):\n",
        "            _, p = self.cost_predict_op(x, y)\n",
        "            P.append(p)\n",
        "        Y = np.concatenate(Y)\n",
        "        P = np.concatenate(P)\n",
        "        return f1_score(Y, P, average=None).mean()\n",
        "\n",
        "\n",
        "\n",
        "\n",
        "\n",
        "\n"
      ],
      "execution_count": 0,
      "outputs": []
    },
    {
      "metadata": {
        "id": "W-Hs3sMaRorr",
        "colab_type": "code",
        "colab": {}
      },
      "cell_type": "code",
      "source": [
        "def flatten(l):\n",
        "    return [item for sublist in l for item in sublist]\n"
      ],
      "execution_count": 0,
      "outputs": []
    },
    {
      "metadata": {
        "id": "P8RxIUuFyhrm",
        "colab_type": "code",
        "outputId": "5ffb6e2a-6a1b-441a-f0ac-4b083d9d2bd2",
        "colab": {
          "base_uri": "https://localhost:8080/",
          "height": 1030
        }
      },
      "cell_type": "code",
      "source": [
        "Xtrain, Ytrain, Xtest, Ytest, word2idx, tag2idx = get_data(split_sequences=True)\n",
        "V = len(word2idx) + 1\n",
        "K = len(set(flatten(Ytrain)) | set(flatten(Ytest)))\n",
        "rnn = RNN(10, [10], V, K)\n",
        "rnn.fit(Xtrain, Ytrain)\n",
        "print(\"train score:\", rnn.score(Xtrain, Ytrain))\n",
        "print(\"test score:\", rnn.score(Xtest, Ytest))\n",
        "print(\"train f1:\", rnn.f1_score(Xtrain, Ytrain))\n",
        "print(\"test f1:\", rnn.f1_score(Xtest, Ytest))"
      ],
      "execution_count": 0,
      "outputs": [
        {
          "output_type": "stream",
          "text": [
            "WARNING (theano.tensor.blas): We did not find a dynamic library in the library_dir of the library we use for blas. If you use ATLAS, make sure to compile it with dynamics library.\n",
            "WARNING (theano.tensor.blas): We did not find a dynamic library in the library_dir of the library we use for blas. If you use ATLAS, make sure to compile it with dynamics library.\n"
          ],
          "name": "stderr"
        },
        {
          "output_type": "stream",
          "text": [
            "py_x.shape: (37, 44)\n",
            "i: 1 cost: 27509.42913051135 correct rate: 0.1627567575226589 time for epoch: 0:00:22.990371\n",
            "i: 2 cost: 17923.97920259564 correct rate: 0.4450967519494443 time for epoch: 0:00:23.098202\n",
            "i: 3 cost: 12209.847928754973 correct rate: 0.5993756110463002 time for epoch: 0:00:22.884809\n",
            "i: 4 cost: 8543.296308388815 correct rate: 0.7298927392349582 time for epoch: 0:00:22.764033\n",
            "i: 5 cost: 6052.439423051279 correct rate: 0.820632229238595 time for epoch: 0:00:22.926709\n",
            "i: 6 cost: 4465.676738657936 correct rate: 0.8707911603149339 time for epoch: 0:00:22.834651\n",
            "i: 7 cost: 3442.302486948828 correct rate: 0.9004850585895988 time for epoch: 0:00:23.787872\n",
            "i: 8 cost: 2781.472985148372 correct rate: 0.9203880468716791 time for epoch: 0:00:22.833799\n",
            "i: 9 cost: 2346.815443893448 correct rate: 0.9334378704652689 time for epoch: 0:00:22.872914\n",
            "i: 10 cost: 2033.9255807271443 correct rate: 0.9435641179443339 time for epoch: 0:00:22.884012\n",
            "i: 11 cost: 1779.2325618600134 correct rate: 0.951801140147454 time for epoch: 0:00:23.002032\n",
            "i: 12 cost: 1581.0482861625242 correct rate: 0.9571665399311378 time for epoch: 0:00:23.023761\n",
            "i: 13 cost: 1440.7011082963095 correct rate: 0.9609497135462175 time for epoch: 0:00:22.929335\n",
            "i: 14 cost: 1322.2728969931093 correct rate: 0.9636749210067681 time for epoch: 0:00:23.069749\n",
            "i: 15 cost: 1201.702937108253 correct rate: 0.9666740661323308 time for epoch: 0:00:22.936392\n",
            "i: 16 cost: 1151.3210105338499 correct rate: 0.9671369263249373 time for epoch: 0:00:23.036302\n",
            "i: 17 cost: 1056.177552122981 correct rate: 0.9694417811615902 time for epoch: 0:00:22.885803\n",
            "i: 18 cost: 1013.4848947431109 correct rate: 0.9702588710934363 time for epoch: 0:00:22.866471\n",
            "i: 19 cost: 939.6103614863922 correct rate: 0.9727006947625952 time for epoch: 0:00:23.030916\n",
            "i: 20 cost: 909.3084847821733 correct rate: 0.9731730010815814 time for epoch: 0:00:22.821728\n",
            "i: 21 cost: 860.3161684195325 correct rate: 0.9742309672361107 time for epoch: 0:00:22.813839\n",
            "i: 22 cost: 837.246768977331 correct rate: 0.9745521355330213 time for epoch: 0:00:22.902477\n",
            "i: 23 cost: 788.5676333473433 correct rate: 0.9762052076494732 time for epoch: 0:00:22.853057\n",
            "i: 24 cost: 775.9291482847418 correct rate: 0.9759076546685118 time for epoch: 0:00:22.838028\n",
            "i: 25 cost: 735.9913072247787 correct rate: 0.9767672521690668 time for epoch: 0:00:22.764293\n",
            "i: 26 cost: 718.0062939408635 correct rate: 0.9770789743395977 time for epoch: 0:00:22.919661\n",
            "i: 27 cost: 699.4359111765075 correct rate: 0.9771828817297746 time for epoch: 0:00:22.782180\n",
            "i: 28 cost: 674.2674159367335 correct rate: 0.9780897098622282 time for epoch: 0:00:22.771241\n",
            "i: 29 cost: 658.9599276661099 correct rate: 0.9783542014008605 time for epoch: 0:00:22.827087\n",
            "i: 30 cost: 644.087870651728 correct rate: 0.9787745540247583 time for epoch: 0:00:22.906527\n"
          ],
          "name": "stdout"
        },
        {
          "output_type": "display_data",
          "data": {
            "image/png": "[encoded data removed]",
            "text/plain": [
              "<Figure size 576x396 with 1 Axes>"
            ]
          },
          "metadata": {
            "tags": []
          }
        },
        {
          "output_type": "stream",
          "text": [
            "train score: 0.9804181800148304\n",
            "test score: 0.9295016569221353\n"
          ],
          "name": "stdout"
        },
        {
          "output_type": "stream",
          "text": [
            "/usr/local/lib/python3.6/dist-packages/sklearn/metrics/classification.py:1143: UndefinedMetricWarning: F-score is ill-defined and being set to 0.0 in labels with no predicted samples.\n",
            "  'precision', 'predicted', average, warn_for)\n"
          ],
          "name": "stderr"
        },
        {
          "output_type": "stream",
          "text": [
            "train f1: 0.8339224633821574\n",
            "test f1: 0.7974474814485593\n"
          ],
          "name": "stdout"
        }
      ]
    },
    {
      "metadata": {
        "id": "4Ve1CFBDgYVS",
        "colab_type": "code",
        "outputId": "f5322e4c-69d8-46d1-b9d5-bf585e0763a0",
        "colab": {
          "base_uri": "https://localhost:8080/",
          "height": 85
        }
      },
      "cell_type": "code",
      "source": [
        "ip_text=input()\n",
        "ip_words=[]\n",
        "for word in ip_text.split():\n",
        "  ip_words.append(word)\n",
        "\n",
        "\n",
        "ip_list=[]\n",
        "ip_idx=[]\n",
        "found_words=[]\n",
        "na_words=[]\n",
        "for word in ip_words:\n",
        "  try:\n",
        "    ip_idx.append(word2idx[word])\n",
        "    ip_list.append(ip_idx)\n",
        "    found_words.append(word)\n",
        "  except: \n",
        "    na_words.append(word)\n",
        "\n",
        "pred_tags=rnn.predict(ip_list[0:1])\n",
        "\n",
        "tags=[]\n",
        "\n",
        "try:\n",
        "  for i in pred_tags[0]:\n",
        "    for key,val in tag2idx.items():\n",
        "      if val==i:\n",
        "        tags.append(key)\n",
        "except:\n",
        "  print(\"\",end=\"\\t\")\n",
        "\n",
        "if(len(tags)!=0):\n",
        "  print(\"\\nTags-Found\")\n",
        "for word,tag in zip(found_words,tags):     \n",
        "  print(word,\":\",tag,end=\"\\t\")\n",
        "\n",
        "if(len(na_words)!=0):\n",
        "  print(\"\\n\\nTags-Not Found\")\n",
        "  for word in na_words:\n",
        "    print(word,\":N/A\",end=\"\\t\")"
      ],
      "execution_count": 0,
      "outputs": [
        {
          "output_type": "stream",
          "text": [
            "shut up\n",
            "\n",
            "Tags-Found\n",
            "shut : VBN\tup : IN\t"
          ],
          "name": "stdout"
        }
      ]
    },
    {
      "metadata": {
        "id": "58Wfcn4D2GhC",
        "colab_type": "code",
        "outputId": "8603802a-602e-462f-aa1a-c14afeec439c",
        "colab": {
          "base_uri": "https://localhost:8080/",
          "height": 291
        }
      },
      "cell_type": "code",
      "source": [
        "from IPython.display import display, Image\n",
        "display(Image(filename='../content/POS_Tagging_RNN/nltk-speech-codes (1).png'))\n"
      ],
      "execution_count": 0,
      "outputs": [
        {
          "output_type": "display_data",
          "data": {
            "image/png": "[encoded data removed]",
            "text/plain": [
              "<IPython.core.display.Image object>"
            ]
          },
          "metadata": {
            "tags": []
          }
        }
      ]
    }
  ]
}